{
 "metadata": {
  "language_info": {
   "codemirror_mode": {
    "name": "ipython",
    "version": 3
   },
   "file_extension": ".py",
   "mimetype": "text/x-python",
   "name": "python",
   "nbconvert_exporter": "python",
   "pygments_lexer": "ipython3",
   "version": "3.7.6-final"
  },
  "orig_nbformat": 2,
  "kernelspec": {
   "name": "python_defaultSpec_1601014956414",
   "display_name": "Python 3.7.6 64-bit ('Yoga': virtualenv)"
  }
 },
 "nbformat": 4,
 "nbformat_minor": 2,
 "cells": [
  {
   "cell_type": "code",
   "execution_count": 8,
   "metadata": {},
   "outputs": [],
   "source": [
    "import pandas as pd\n",
    "from pandas import Series, DataFrame\n",
    "import numpy as np\n",
    "import numpy.random as random\n",
    "import scipy as sp\n",
    "import matplotlib.pyplot as plt\n",
    "import matplotlib as mpl\n",
    "import seaborn as sns\n",
    "\n",
    "from datetime import datetime\n",
    "\n",
    "sns.set()\n",
    "%matplotlib inline"
   ]
  },
  {
   "cell_type": "code",
   "execution_count": 64,
   "metadata": {},
   "outputs": [],
   "source": [
    "df_all = pd.read_csv('part_all.csv')\n",
    "df_1 = pd.read_csv('part1.csv')\n",
    "df_2 = pd.read_csv('part2.csv')\n",
    "df_3 = pd.read_csv('part3.csv')"
   ]
  },
  {
   "cell_type": "code",
   "execution_count": 76,
   "metadata": {},
   "outputs": [],
   "source": [
    "col_all = df_all.columns.tolist()\n",
    "#col_all"
   ]
  },
  {
   "cell_type": "code",
   "execution_count": 77,
   "metadata": {
    "tags": []
   },
   "outputs": [
    {
     "output_type": "stream",
     "name": "stdout",
     "text": "<class 'pandas.core.frame.DataFrame'>\nRangeIndex: 3799 entries, 0 to 3798\nData columns (total 77 columns):\n #   Column                Non-Null Count  Dtype  \n---  ------                --------------  -----  \n 0   name                  3770 non-null   object \n 1   shop                  3769 non-null   object \n 2   male                  3799 non-null   object \n 3   class_date            3799 non-null   object \n 4   class_area            3799 non-null   object \n 5   score                 3716 non-null   float64\n 6   age_n                 3748 non-null   float64\n 7   age_random            3748 non-null   float64\n 8   education             3799 non-null   int64  \n 9   highschool            3799 non-null   int64  \n 10  university            3799 non-null   int64  \n 11  graduate              3799 non-null   int64  \n 12  tenure_n              3691 non-null   float64\n 13  tenure_random         3691 non-null   float64\n 14  staff_n               3722 non-null   float64\n 15  staff_random          3722 non-null   float64\n 16  license               3799 non-null   int64  \n 17  ask_electric          3744 non-null   float64\n 18  m_new_n               3499 non-null   float64\n 19  m_new_random          3499 non-null   float64\n 20  m_fix_n               2982 non-null   float64\n 21  m_fix_random          2982 non-null   float64\n 22  area_n                3799 non-null   int64  \n 23  area_m                3799 non-null   int64  \n 24  area_s                3799 non-null   int64  \n 25  area_e                3799 non-null   int64  \n 26  area_i                3799 non-null   int64  \n 27  type_g                3799 non-null   int64  \n 28  type_e                3799 non-null   int64  \n 29  brand1                3799 non-null   int64  \n 30  brand2                3799 non-null   int64  \n 31  brand3                3799 non-null   int64  \n 32  brand4                3799 non-null   int64  \n 33  brand5                3799 non-null   int64  \n 34  brand6                3799 non-null   int64  \n 35  brand7                3799 non-null   int64  \n 36  brand8                3799 non-null   int64  \n 37  area                  3799 non-null   object \n 38  knowledge             3799 non-null   int64  \n 39  skill                 3799 non-null   int64  \n 40  question              3799 non-null   int64  \n 41  atmosphere            3799 non-null   int64  \n 42  structure             3799 non-null   int64  \n 43  difficulty            3799 non-null   int64  \n 44  practicality          3799 non-null   int64  \n 45  hours                 3799 non-null   int64  \n 46  train_time            3799 non-null   int64  \n 47  train_environment     3799 non-null   int64  \n 48  train_administration  3799 non-null   int64  \n 49  practical             3799 non-null   int64  \n 50  expectation           3799 non-null   int64  \n 51  worthy                3799 non-null   int64  \n 52  merit                 3799 non-null   int64  \n 53  satisfaction          3799 non-null   int64  \n 54  enhance               3799 non-null   int64  \n 55  applicable            3799 non-null   int64  \n 56  problem_solve         3799 non-null   int64  \n 57  other_field           3799 non-null   int64  \n 58  sell_g_less           3799 non-null   int64  \n 59  fix_g_less            3799 non-null   int64  \n 60  fix_g_upgrade         3799 non-null   int64  \n 61  fix_e_upgrade         3799 non-null   int64  \n 62  recruit               3799 non-null   int64  \n 63  franchise_cost        3799 non-null   int64  \n 64  decorate_cost         3799 non-null   int64  \n 65  fix_g_lesson          3799 non-null   int64  \n 66  fix_e_lesson          3799 non-null   int64  \n 67  franchise             3799 non-null   int64  \n 68  manage                3799 non-null   int64  \n 69  decorate              3799 non-null   int64  \n 70  exp_share             3799 non-null   int64  \n 71  component             3799 non-null   int64  \n 72  charge                3799 non-null   int64  \n 73  social_media          3799 non-null   int64  \n 74  cross_industry        3799 non-null   int64  \n 75  financing             3799 non-null   int64  \n 76  insurance             3799 non-null   int64  \ndtypes: float64(12), int64(59), object(6)\nmemory usage: 2.2+ MB\n"
    }
   ],
   "source": [
    "df_all.info()"
   ]
  },
  {
   "cell_type": "code",
   "execution_count": 78,
   "metadata": {
    "tags": []
   },
   "outputs": [
    {
     "output_type": "execute_result",
     "data": {
      "text/plain": "             score        age_n   age_random    education   highschool  \\\ncount  3698.000000  3706.000000  3706.000000  3757.000000  3757.000000   \nmean     92.931585     3.248516    39.299514     1.170349     0.864253   \nstd       9.315956     1.037504    11.175759     0.669385     0.342565   \nmin      16.000000     1.000000    18.000000     0.000000     0.000000   \n25%      90.000000     3.000000    31.000000     1.000000     1.000000   \n50%      96.000000     3.000000    38.000000     1.000000     1.000000   \n75%     100.000000     4.000000    46.000000     2.000000     1.000000   \nmax     100.000000     5.000000    80.000000     3.000000     1.000000   \n\n        university     graduate     tenure_n  tenure_random      staff_n  ...  \\\ncount  3757.000000  3757.000000  3649.000000    3649.000000  3680.000000  ...   \nmean      0.288528     0.017567     4.725678      16.000000     1.740217  ...   \nstd       0.453138     0.131389     1.343479      10.534639     0.772884  ...   \nmin       0.000000     0.000000     1.000000       0.000000     1.000000  ...   \n25%       0.000000     0.000000     4.000000       8.000000     1.000000  ...   \n50%       0.000000     0.000000     5.000000      14.000000     2.000000  ...   \n75%       1.000000     0.000000     6.000000      23.000000     2.000000  ...   \nmax       1.000000     1.000000     7.000000      56.000000     6.000000  ...   \n\n            type_g       type_e       brand1       brand2       brand3  \\\ncount  3757.000000  3757.000000  3757.000000  3757.000000  3757.000000   \nmean      0.973383     0.666755     0.265371     0.217195     0.335108   \nstd       0.160983     0.471436     0.441589     0.412391     0.472091   \nmin       0.000000     0.000000     0.000000     0.000000     0.000000   \n25%       1.000000     0.000000     0.000000     0.000000     0.000000   \n50%       1.000000     1.000000     0.000000     0.000000     0.000000   \n75%       1.000000     1.000000     1.000000     0.000000     1.000000   \nmax       1.000000     1.000000     1.000000     1.000000     1.000000   \n\n            brand4       brand5       brand6       brand7       brand8  \ncount  3757.000000  3757.000000  3757.000000  3757.000000  3757.000000  \nmean      0.001863     0.011978     0.030077     0.036199     0.010913  \nstd       0.043130     0.108799     0.170822     0.186810     0.103907  \nmin       0.000000     0.000000     0.000000     0.000000     0.000000  \n25%       0.000000     0.000000     0.000000     0.000000     0.000000  \n50%       0.000000     0.000000     0.000000     0.000000     0.000000  \n75%       0.000000     0.000000     0.000000     0.000000     0.000000  \nmax       1.000000     1.000000     1.000000     1.000000     1.000000  \n\n[8 rows x 32 columns]",
      "text/html": "<div>\n<style scoped>\n    .dataframe tbody tr th:only-of-type {\n        vertical-align: middle;\n    }\n\n    .dataframe tbody tr th {\n        vertical-align: top;\n    }\n\n    .dataframe thead th {\n        text-align: right;\n    }\n</style>\n<table border=\"1\" class=\"dataframe\">\n  <thead>\n    <tr style=\"text-align: right;\">\n      <th></th>\n      <th>score</th>\n      <th>age_n</th>\n      <th>age_random</th>\n      <th>education</th>\n      <th>highschool</th>\n      <th>university</th>\n      <th>graduate</th>\n      <th>tenure_n</th>\n      <th>tenure_random</th>\n      <th>staff_n</th>\n      <th>...</th>\n      <th>type_g</th>\n      <th>type_e</th>\n      <th>brand1</th>\n      <th>brand2</th>\n      <th>brand3</th>\n      <th>brand4</th>\n      <th>brand5</th>\n      <th>brand6</th>\n      <th>brand7</th>\n      <th>brand8</th>\n    </tr>\n  </thead>\n  <tbody>\n    <tr>\n      <th>count</th>\n      <td>3698.000000</td>\n      <td>3706.000000</td>\n      <td>3706.000000</td>\n      <td>3757.000000</td>\n      <td>3757.000000</td>\n      <td>3757.000000</td>\n      <td>3757.000000</td>\n      <td>3649.000000</td>\n      <td>3649.000000</td>\n      <td>3680.000000</td>\n      <td>...</td>\n      <td>3757.000000</td>\n      <td>3757.000000</td>\n      <td>3757.000000</td>\n      <td>3757.000000</td>\n      <td>3757.000000</td>\n      <td>3757.000000</td>\n      <td>3757.000000</td>\n      <td>3757.000000</td>\n      <td>3757.000000</td>\n      <td>3757.000000</td>\n    </tr>\n    <tr>\n      <th>mean</th>\n      <td>92.931585</td>\n      <td>3.248516</td>\n      <td>39.299514</td>\n      <td>1.170349</td>\n      <td>0.864253</td>\n      <td>0.288528</td>\n      <td>0.017567</td>\n      <td>4.725678</td>\n      <td>16.000000</td>\n      <td>1.740217</td>\n      <td>...</td>\n      <td>0.973383</td>\n      <td>0.666755</td>\n      <td>0.265371</td>\n      <td>0.217195</td>\n      <td>0.335108</td>\n      <td>0.001863</td>\n      <td>0.011978</td>\n      <td>0.030077</td>\n      <td>0.036199</td>\n      <td>0.010913</td>\n    </tr>\n    <tr>\n      <th>std</th>\n      <td>9.315956</td>\n      <td>1.037504</td>\n      <td>11.175759</td>\n      <td>0.669385</td>\n      <td>0.342565</td>\n      <td>0.453138</td>\n      <td>0.131389</td>\n      <td>1.343479</td>\n      <td>10.534639</td>\n      <td>0.772884</td>\n      <td>...</td>\n      <td>0.160983</td>\n      <td>0.471436</td>\n      <td>0.441589</td>\n      <td>0.412391</td>\n      <td>0.472091</td>\n      <td>0.043130</td>\n      <td>0.108799</td>\n      <td>0.170822</td>\n      <td>0.186810</td>\n      <td>0.103907</td>\n    </tr>\n    <tr>\n      <th>min</th>\n      <td>16.000000</td>\n      <td>1.000000</td>\n      <td>18.000000</td>\n      <td>0.000000</td>\n      <td>0.000000</td>\n      <td>0.000000</td>\n      <td>0.000000</td>\n      <td>1.000000</td>\n      <td>0.000000</td>\n      <td>1.000000</td>\n      <td>...</td>\n      <td>0.000000</td>\n      <td>0.000000</td>\n      <td>0.000000</td>\n      <td>0.000000</td>\n      <td>0.000000</td>\n      <td>0.000000</td>\n      <td>0.000000</td>\n      <td>0.000000</td>\n      <td>0.000000</td>\n      <td>0.000000</td>\n    </tr>\n    <tr>\n      <th>25%</th>\n      <td>90.000000</td>\n      <td>3.000000</td>\n      <td>31.000000</td>\n      <td>1.000000</td>\n      <td>1.000000</td>\n      <td>0.000000</td>\n      <td>0.000000</td>\n      <td>4.000000</td>\n      <td>8.000000</td>\n      <td>1.000000</td>\n      <td>...</td>\n      <td>1.000000</td>\n      <td>0.000000</td>\n      <td>0.000000</td>\n      <td>0.000000</td>\n      <td>0.000000</td>\n      <td>0.000000</td>\n      <td>0.000000</td>\n      <td>0.000000</td>\n      <td>0.000000</td>\n      <td>0.000000</td>\n    </tr>\n    <tr>\n      <th>50%</th>\n      <td>96.000000</td>\n      <td>3.000000</td>\n      <td>38.000000</td>\n      <td>1.000000</td>\n      <td>1.000000</td>\n      <td>0.000000</td>\n      <td>0.000000</td>\n      <td>5.000000</td>\n      <td>14.000000</td>\n      <td>2.000000</td>\n      <td>...</td>\n      <td>1.000000</td>\n      <td>1.000000</td>\n      <td>0.000000</td>\n      <td>0.000000</td>\n      <td>0.000000</td>\n      <td>0.000000</td>\n      <td>0.000000</td>\n      <td>0.000000</td>\n      <td>0.000000</td>\n      <td>0.000000</td>\n    </tr>\n    <tr>\n      <th>75%</th>\n      <td>100.000000</td>\n      <td>4.000000</td>\n      <td>46.000000</td>\n      <td>2.000000</td>\n      <td>1.000000</td>\n      <td>1.000000</td>\n      <td>0.000000</td>\n      <td>6.000000</td>\n      <td>23.000000</td>\n      <td>2.000000</td>\n      <td>...</td>\n      <td>1.000000</td>\n      <td>1.000000</td>\n      <td>1.000000</td>\n      <td>0.000000</td>\n      <td>1.000000</td>\n      <td>0.000000</td>\n      <td>0.000000</td>\n      <td>0.000000</td>\n      <td>0.000000</td>\n      <td>0.000000</td>\n    </tr>\n    <tr>\n      <th>max</th>\n      <td>100.000000</td>\n      <td>5.000000</td>\n      <td>80.000000</td>\n      <td>3.000000</td>\n      <td>1.000000</td>\n      <td>1.000000</td>\n      <td>1.000000</td>\n      <td>7.000000</td>\n      <td>56.000000</td>\n      <td>6.000000</td>\n      <td>...</td>\n      <td>1.000000</td>\n      <td>1.000000</td>\n      <td>1.000000</td>\n      <td>1.000000</td>\n      <td>1.000000</td>\n      <td>1.000000</td>\n      <td>1.000000</td>\n      <td>1.000000</td>\n      <td>1.000000</td>\n      <td>1.000000</td>\n    </tr>\n  </tbody>\n</table>\n<p>8 rows × 32 columns</p>\n</div>"
     },
     "metadata": {},
     "execution_count": 78
    }
   ],
   "source": [
    "df_1.describe()"
   ]
  },
  {
   "cell_type": "code",
   "execution_count": 79,
   "metadata": {},
   "outputs": [
    {
     "output_type": "execute_result",
     "data": {
      "text/plain": "         knowledge        skill     question   atmosphere    structure  \\\ncount  3757.000000  3757.000000  3757.000000  3757.000000  3757.000000   \nmean      1.449295     1.428267     1.432526     1.420814     1.319138   \nstd       0.736177     0.738764     0.736639     0.749812     0.796082   \nmin      -2.000000    -2.000000    -2.000000    -2.000000    -2.000000   \n25%       1.000000     1.000000     1.000000     1.000000     1.000000   \n50%       2.000000     2.000000     2.000000     2.000000     1.000000   \n75%       2.000000     2.000000     2.000000     2.000000     2.000000   \nmax       2.000000     2.000000     2.000000     2.000000     2.000000   \n\n        difficulty  practicality        hours   train_time  train_environment  \\\ncount  3757.000000   3757.000000  3757.000000  3757.000000        3757.000000   \nmean      1.263242      1.277615     1.250466     1.252063           1.315677   \nstd       0.814645      0.824842     0.831251     0.839059           0.786536   \nmin      -2.000000     -2.000000    -2.000000    -2.000000          -2.000000   \n25%       1.000000      1.000000     1.000000     1.000000           1.000000   \n50%       1.000000      1.000000     1.000000     1.000000           1.000000   \n75%       2.000000      2.000000     2.000000     2.000000           2.000000   \nmax       2.000000      2.000000     2.000000     2.000000           2.000000   \n\n       train_administration    practical  expectation       worthy  \\\ncount           3757.000000  3757.000000  3757.000000  3757.000000   \nmean               1.343359     1.224381     1.137077     1.188182   \nstd                0.771750     0.795663     0.850735     0.832953   \nmin               -2.000000    -2.000000    -2.000000    -2.000000   \n25%                1.000000     1.000000     1.000000     1.000000   \n50%                1.000000     1.000000     1.000000     1.000000   \n75%                2.000000     2.000000     2.000000     2.000000   \nmax                2.000000     2.000000     2.000000     2.000000   \n\n             merit  satisfaction      enhance   applicable  problem_solve  \\\ncount  3757.000000   3757.000000  3757.000000  3757.000000    3757.000000   \nmean      1.224913      1.217461     1.169284     1.197232       1.123237   \nstd       0.808460      0.811810     0.837159     0.820538       0.864940   \nmin      -2.000000     -2.000000    -2.000000    -2.000000      -2.000000   \n25%       1.000000      1.000000     1.000000     1.000000       1.000000   \n50%       1.000000      1.000000     1.000000     1.000000       1.000000   \n75%       2.000000      2.000000     2.000000     2.000000       2.000000   \nmax       2.000000      2.000000     2.000000     2.000000       2.000000   \n\n       other_field  \ncount  3757.000000  \nmean      1.232632  \nstd       0.800140  \nmin      -2.000000  \n25%       1.000000  \n50%       1.000000  \n75%       2.000000  \nmax       2.000000  ",
      "text/html": "<div>\n<style scoped>\n    .dataframe tbody tr th:only-of-type {\n        vertical-align: middle;\n    }\n\n    .dataframe tbody tr th {\n        vertical-align: top;\n    }\n\n    .dataframe thead th {\n        text-align: right;\n    }\n</style>\n<table border=\"1\" class=\"dataframe\">\n  <thead>\n    <tr style=\"text-align: right;\">\n      <th></th>\n      <th>knowledge</th>\n      <th>skill</th>\n      <th>question</th>\n      <th>atmosphere</th>\n      <th>structure</th>\n      <th>difficulty</th>\n      <th>practicality</th>\n      <th>hours</th>\n      <th>train_time</th>\n      <th>train_environment</th>\n      <th>train_administration</th>\n      <th>practical</th>\n      <th>expectation</th>\n      <th>worthy</th>\n      <th>merit</th>\n      <th>satisfaction</th>\n      <th>enhance</th>\n      <th>applicable</th>\n      <th>problem_solve</th>\n      <th>other_field</th>\n    </tr>\n  </thead>\n  <tbody>\n    <tr>\n      <th>count</th>\n      <td>3757.000000</td>\n      <td>3757.000000</td>\n      <td>3757.000000</td>\n      <td>3757.000000</td>\n      <td>3757.000000</td>\n      <td>3757.000000</td>\n      <td>3757.000000</td>\n      <td>3757.000000</td>\n      <td>3757.000000</td>\n      <td>3757.000000</td>\n      <td>3757.000000</td>\n      <td>3757.000000</td>\n      <td>3757.000000</td>\n      <td>3757.000000</td>\n      <td>3757.000000</td>\n      <td>3757.000000</td>\n      <td>3757.000000</td>\n      <td>3757.000000</td>\n      <td>3757.000000</td>\n      <td>3757.000000</td>\n    </tr>\n    <tr>\n      <th>mean</th>\n      <td>1.449295</td>\n      <td>1.428267</td>\n      <td>1.432526</td>\n      <td>1.420814</td>\n      <td>1.319138</td>\n      <td>1.263242</td>\n      <td>1.277615</td>\n      <td>1.250466</td>\n      <td>1.252063</td>\n      <td>1.315677</td>\n      <td>1.343359</td>\n      <td>1.224381</td>\n      <td>1.137077</td>\n      <td>1.188182</td>\n      <td>1.224913</td>\n      <td>1.217461</td>\n      <td>1.169284</td>\n      <td>1.197232</td>\n      <td>1.123237</td>\n      <td>1.232632</td>\n    </tr>\n    <tr>\n      <th>std</th>\n      <td>0.736177</td>\n      <td>0.738764</td>\n      <td>0.736639</td>\n      <td>0.749812</td>\n      <td>0.796082</td>\n      <td>0.814645</td>\n      <td>0.824842</td>\n      <td>0.831251</td>\n      <td>0.839059</td>\n      <td>0.786536</td>\n      <td>0.771750</td>\n      <td>0.795663</td>\n      <td>0.850735</td>\n      <td>0.832953</td>\n      <td>0.808460</td>\n      <td>0.811810</td>\n      <td>0.837159</td>\n      <td>0.820538</td>\n      <td>0.864940</td>\n      <td>0.800140</td>\n    </tr>\n    <tr>\n      <th>min</th>\n      <td>-2.000000</td>\n      <td>-2.000000</td>\n      <td>-2.000000</td>\n      <td>-2.000000</td>\n      <td>-2.000000</td>\n      <td>-2.000000</td>\n      <td>-2.000000</td>\n      <td>-2.000000</td>\n      <td>-2.000000</td>\n      <td>-2.000000</td>\n      <td>-2.000000</td>\n      <td>-2.000000</td>\n      <td>-2.000000</td>\n      <td>-2.000000</td>\n      <td>-2.000000</td>\n      <td>-2.000000</td>\n      <td>-2.000000</td>\n      <td>-2.000000</td>\n      <td>-2.000000</td>\n      <td>-2.000000</td>\n    </tr>\n    <tr>\n      <th>25%</th>\n      <td>1.000000</td>\n      <td>1.000000</td>\n      <td>1.000000</td>\n      <td>1.000000</td>\n      <td>1.000000</td>\n      <td>1.000000</td>\n      <td>1.000000</td>\n      <td>1.000000</td>\n      <td>1.000000</td>\n      <td>1.000000</td>\n      <td>1.000000</td>\n      <td>1.000000</td>\n      <td>1.000000</td>\n      <td>1.000000</td>\n      <td>1.000000</td>\n      <td>1.000000</td>\n      <td>1.000000</td>\n      <td>1.000000</td>\n      <td>1.000000</td>\n      <td>1.000000</td>\n    </tr>\n    <tr>\n      <th>50%</th>\n      <td>2.000000</td>\n      <td>2.000000</td>\n      <td>2.000000</td>\n      <td>2.000000</td>\n      <td>1.000000</td>\n      <td>1.000000</td>\n      <td>1.000000</td>\n      <td>1.000000</td>\n      <td>1.000000</td>\n      <td>1.000000</td>\n      <td>1.000000</td>\n      <td>1.000000</td>\n      <td>1.000000</td>\n      <td>1.000000</td>\n      <td>1.000000</td>\n      <td>1.000000</td>\n      <td>1.000000</td>\n      <td>1.000000</td>\n      <td>1.000000</td>\n      <td>1.000000</td>\n    </tr>\n    <tr>\n      <th>75%</th>\n      <td>2.000000</td>\n      <td>2.000000</td>\n      <td>2.000000</td>\n      <td>2.000000</td>\n      <td>2.000000</td>\n      <td>2.000000</td>\n      <td>2.000000</td>\n      <td>2.000000</td>\n      <td>2.000000</td>\n      <td>2.000000</td>\n      <td>2.000000</td>\n      <td>2.000000</td>\n      <td>2.000000</td>\n      <td>2.000000</td>\n      <td>2.000000</td>\n      <td>2.000000</td>\n      <td>2.000000</td>\n      <td>2.000000</td>\n      <td>2.000000</td>\n      <td>2.000000</td>\n    </tr>\n    <tr>\n      <th>max</th>\n      <td>2.000000</td>\n      <td>2.000000</td>\n      <td>2.000000</td>\n      <td>2.000000</td>\n      <td>2.000000</td>\n      <td>2.000000</td>\n      <td>2.000000</td>\n      <td>2.000000</td>\n      <td>2.000000</td>\n      <td>2.000000</td>\n      <td>2.000000</td>\n      <td>2.000000</td>\n      <td>2.000000</td>\n      <td>2.000000</td>\n      <td>2.000000</td>\n      <td>2.000000</td>\n      <td>2.000000</td>\n      <td>2.000000</td>\n      <td>2.000000</td>\n      <td>2.000000</td>\n    </tr>\n  </tbody>\n</table>\n</div>"
     },
     "metadata": {},
     "execution_count": 79
    }
   ],
   "source": [
    "df_2.describe()"
   ]
  },
  {
   "cell_type": "code",
   "execution_count": 80,
   "metadata": {},
   "outputs": [
    {
     "output_type": "execute_result",
     "data": {
      "text/plain": "       sell_g_less   fix_g_less  fix_g_upgrade  fix_e_upgrade      recruit  \\\ncount  3757.000000  3757.000000    3757.000000    3757.000000  3757.000000   \nmean      0.320735     0.195901       0.562151       1.056694     0.717061   \nstd       0.966493     1.009779       0.921974       0.811086     0.930239   \nmin      -2.000000    -2.000000      -2.000000      -2.000000    -2.000000   \n25%       0.000000     0.000000       0.000000       1.000000     0.000000   \n50%       0.000000     0.000000       1.000000       1.000000     1.000000   \n75%       1.000000     1.000000       1.000000       2.000000     1.000000   \nmax       2.000000     2.000000       2.000000       2.000000     2.000000   \n\n       franchise_cost  decorate_cost  fix_g_lesson  fix_e_lesson    franchise  \\\ncount     3757.000000    3757.000000   3757.000000   3757.000000  3757.000000   \nmean         0.719989       0.832579      0.999468      1.242215     0.718392   \nstd          0.970742       0.970504      0.854107      0.768382     0.875665   \nmin         -2.000000      -2.000000     -2.000000     -2.000000    -2.000000   \n25%          0.000000       0.000000      0.000000      1.000000     0.000000   \n50%          1.000000       1.000000      1.000000      1.000000     1.000000   \n75%          2.000000       2.000000      2.000000      2.000000     1.000000   \nmax          2.000000       2.000000      2.000000      2.000000     2.000000   \n\n            manage     decorate    exp_share    component       charge  \\\ncount  3757.000000  3757.000000  3757.000000  3757.000000  3757.000000   \nmean      0.719457     0.781208     0.791323     0.758850     0.634017   \nstd       0.876007     0.859414     0.859142     0.843998     0.931603   \nmin      -2.000000    -2.000000    -2.000000    -2.000000    -2.000000   \n25%       0.000000     0.000000     0.000000     0.000000     0.000000   \n50%       1.000000     1.000000     1.000000     1.000000     1.000000   \n75%       1.000000     1.000000     1.000000     1.000000     1.000000   \nmax       2.000000     2.000000     2.000000     2.000000     2.000000   \n\n       social_media  cross_industry    financing    insurance  \ncount   3757.000000     3757.000000  3757.000000  3757.000000  \nmean       0.748470        0.543253     0.499601     0.625233  \nstd        0.867608        0.958431     0.975915     0.909998  \nmin       -2.000000       -2.000000    -2.000000    -2.000000  \n25%        0.000000        0.000000     0.000000     0.000000  \n50%        1.000000        0.000000     0.000000     1.000000  \n75%        1.000000        1.000000     1.000000     1.000000  \nmax        2.000000        2.000000     2.000000     2.000000  ",
      "text/html": "<div>\n<style scoped>\n    .dataframe tbody tr th:only-of-type {\n        vertical-align: middle;\n    }\n\n    .dataframe tbody tr th {\n        vertical-align: top;\n    }\n\n    .dataframe thead th {\n        text-align: right;\n    }\n</style>\n<table border=\"1\" class=\"dataframe\">\n  <thead>\n    <tr style=\"text-align: right;\">\n      <th></th>\n      <th>sell_g_less</th>\n      <th>fix_g_less</th>\n      <th>fix_g_upgrade</th>\n      <th>fix_e_upgrade</th>\n      <th>recruit</th>\n      <th>franchise_cost</th>\n      <th>decorate_cost</th>\n      <th>fix_g_lesson</th>\n      <th>fix_e_lesson</th>\n      <th>franchise</th>\n      <th>manage</th>\n      <th>decorate</th>\n      <th>exp_share</th>\n      <th>component</th>\n      <th>charge</th>\n      <th>social_media</th>\n      <th>cross_industry</th>\n      <th>financing</th>\n      <th>insurance</th>\n    </tr>\n  </thead>\n  <tbody>\n    <tr>\n      <th>count</th>\n      <td>3757.000000</td>\n      <td>3757.000000</td>\n      <td>3757.000000</td>\n      <td>3757.000000</td>\n      <td>3757.000000</td>\n      <td>3757.000000</td>\n      <td>3757.000000</td>\n      <td>3757.000000</td>\n      <td>3757.000000</td>\n      <td>3757.000000</td>\n      <td>3757.000000</td>\n      <td>3757.000000</td>\n      <td>3757.000000</td>\n      <td>3757.000000</td>\n      <td>3757.000000</td>\n      <td>3757.000000</td>\n      <td>3757.000000</td>\n      <td>3757.000000</td>\n      <td>3757.000000</td>\n    </tr>\n    <tr>\n      <th>mean</th>\n      <td>0.320735</td>\n      <td>0.195901</td>\n      <td>0.562151</td>\n      <td>1.056694</td>\n      <td>0.717061</td>\n      <td>0.719989</td>\n      <td>0.832579</td>\n      <td>0.999468</td>\n      <td>1.242215</td>\n      <td>0.718392</td>\n      <td>0.719457</td>\n      <td>0.781208</td>\n      <td>0.791323</td>\n      <td>0.758850</td>\n      <td>0.634017</td>\n      <td>0.748470</td>\n      <td>0.543253</td>\n      <td>0.499601</td>\n      <td>0.625233</td>\n    </tr>\n    <tr>\n      <th>std</th>\n      <td>0.966493</td>\n      <td>1.009779</td>\n      <td>0.921974</td>\n      <td>0.811086</td>\n      <td>0.930239</td>\n      <td>0.970742</td>\n      <td>0.970504</td>\n      <td>0.854107</td>\n      <td>0.768382</td>\n      <td>0.875665</td>\n      <td>0.876007</td>\n      <td>0.859414</td>\n      <td>0.859142</td>\n      <td>0.843998</td>\n      <td>0.931603</td>\n      <td>0.867608</td>\n      <td>0.958431</td>\n      <td>0.975915</td>\n      <td>0.909998</td>\n    </tr>\n    <tr>\n      <th>min</th>\n      <td>-2.000000</td>\n      <td>-2.000000</td>\n      <td>-2.000000</td>\n      <td>-2.000000</td>\n      <td>-2.000000</td>\n      <td>-2.000000</td>\n      <td>-2.000000</td>\n      <td>-2.000000</td>\n      <td>-2.000000</td>\n      <td>-2.000000</td>\n      <td>-2.000000</td>\n      <td>-2.000000</td>\n      <td>-2.000000</td>\n      <td>-2.000000</td>\n      <td>-2.000000</td>\n      <td>-2.000000</td>\n      <td>-2.000000</td>\n      <td>-2.000000</td>\n      <td>-2.000000</td>\n    </tr>\n    <tr>\n      <th>25%</th>\n      <td>0.000000</td>\n      <td>0.000000</td>\n      <td>0.000000</td>\n      <td>1.000000</td>\n      <td>0.000000</td>\n      <td>0.000000</td>\n      <td>0.000000</td>\n      <td>0.000000</td>\n      <td>1.000000</td>\n      <td>0.000000</td>\n      <td>0.000000</td>\n      <td>0.000000</td>\n      <td>0.000000</td>\n      <td>0.000000</td>\n      <td>0.000000</td>\n      <td>0.000000</td>\n      <td>0.000000</td>\n      <td>0.000000</td>\n      <td>0.000000</td>\n    </tr>\n    <tr>\n      <th>50%</th>\n      <td>0.000000</td>\n      <td>0.000000</td>\n      <td>1.000000</td>\n      <td>1.000000</td>\n      <td>1.000000</td>\n      <td>1.000000</td>\n      <td>1.000000</td>\n      <td>1.000000</td>\n      <td>1.000000</td>\n      <td>1.000000</td>\n      <td>1.000000</td>\n      <td>1.000000</td>\n      <td>1.000000</td>\n      <td>1.000000</td>\n      <td>1.000000</td>\n      <td>1.000000</td>\n      <td>0.000000</td>\n      <td>0.000000</td>\n      <td>1.000000</td>\n    </tr>\n    <tr>\n      <th>75%</th>\n      <td>1.000000</td>\n      <td>1.000000</td>\n      <td>1.000000</td>\n      <td>2.000000</td>\n      <td>1.000000</td>\n      <td>2.000000</td>\n      <td>2.000000</td>\n      <td>2.000000</td>\n      <td>2.000000</td>\n      <td>1.000000</td>\n      <td>1.000000</td>\n      <td>1.000000</td>\n      <td>1.000000</td>\n      <td>1.000000</td>\n      <td>1.000000</td>\n      <td>1.000000</td>\n      <td>1.000000</td>\n      <td>1.000000</td>\n      <td>1.000000</td>\n    </tr>\n    <tr>\n      <th>max</th>\n      <td>2.000000</td>\n      <td>2.000000</td>\n      <td>2.000000</td>\n      <td>2.000000</td>\n      <td>2.000000</td>\n      <td>2.000000</td>\n      <td>2.000000</td>\n      <td>2.000000</td>\n      <td>2.000000</td>\n      <td>2.000000</td>\n      <td>2.000000</td>\n      <td>2.000000</td>\n      <td>2.000000</td>\n      <td>2.000000</td>\n      <td>2.000000</td>\n      <td>2.000000</td>\n      <td>2.000000</td>\n      <td>2.000000</td>\n      <td>2.000000</td>\n    </tr>\n  </tbody>\n</table>\n</div>"
     },
     "metadata": {},
     "execution_count": 80
    }
   ],
   "source": [
    "df_3.describe()"
   ]
  },
  {
   "cell_type": "code",
   "execution_count": 81,
   "metadata": {},
   "outputs": [
    {
     "output_type": "execute_result",
     "data": {
      "text/plain": "score            92.931585\nage_n             3.248516\nage_random       39.299514\neducation         1.170349\nhighschool        0.864253\nuniversity        0.288528\ngraduate          0.017567\ntenure_n          4.725678\ntenure_random    16.000000\nstaff_n           1.740217\nstaff_random      2.557337\nlicense           0.793186\nask_electric      1.086980\nm_new_n           1.909380\nm_new_random      7.676479\nm_fix_n           4.235852\nm_fix_random     52.138936\narea_n            0.389673\narea_m            0.233963\narea_s            0.338834\narea_e            0.026085\narea_i            0.001065\ntype_g            0.973383\ntype_e            0.666755\nbrand1            0.265371\nbrand2            0.217195\nbrand3            0.335108\nbrand4            0.001863\nbrand5            0.011978\nbrand6            0.030077\nbrand7            0.036199\nbrand8            0.010913\ndtype: float64"
     },
     "metadata": {},
     "execution_count": 81
    }
   ],
   "source": [
    "df_1.mean()"
   ]
  },
  {
   "cell_type": "code",
   "execution_count": 82,
   "metadata": {},
   "outputs": [
    {
     "output_type": "execute_result",
     "data": {
      "text/plain": "knowledge               1.449295\nskill                   1.428267\nquestion                1.432526\natmosphere              1.420814\nstructure               1.319138\ndifficulty              1.263242\npracticality            1.277615\nhours                   1.250466\ntrain_time              1.252063\ntrain_environment       1.315677\ntrain_administration    1.343359\npractical               1.224381\nexpectation             1.137077\nworthy                  1.188182\nmerit                   1.224913\nsatisfaction            1.217461\nenhance                 1.169284\napplicable              1.197232\nproblem_solve           1.123237\nother_field             1.232632\ndtype: float64"
     },
     "metadata": {},
     "execution_count": 82
    }
   ],
   "source": [
    "df_2.mean()"
   ]
  },
  {
   "cell_type": "code",
   "execution_count": 83,
   "metadata": {},
   "outputs": [
    {
     "output_type": "execute_result",
     "data": {
      "text/plain": "sell_g_less       0.320735\nfix_g_less        0.195901\nfix_g_upgrade     0.562151\nfix_e_upgrade     1.056694\nrecruit           0.717061\nfranchise_cost    0.719989\ndecorate_cost     0.832579\nfix_g_lesson      0.999468\nfix_e_lesson      1.242215\nfranchise         0.718392\nmanage            0.719457\ndecorate          0.781208\nexp_share         0.791323\ncomponent         0.758850\ncharge            0.634017\nsocial_media      0.748470\ncross_industry    0.543253\nfinancing         0.499601\ninsurance         0.625233\ndtype: float64"
     },
     "metadata": {},
     "execution_count": 83
    }
   ],
   "source": [
    "df_3.mean()"
   ]
  },
  {
   "cell_type": "code",
   "execution_count": 147,
   "metadata": {},
   "outputs": [
    {
     "output_type": "execute_result",
     "data": {
      "text/plain": "          count       mean        std   min   25%    50%    75%    max\narea                                                                  \ne          98.0  89.602041  12.528516  38.0  84.0   94.0  100.0  100.0\ni           3.0  96.666667   5.773503  90.0  95.0  100.0  100.0  100.0\nm         875.0  92.708571   8.985157  24.0  90.0   96.0   98.0  100.0\nn        1463.0  93.548872   8.369962  28.0  92.0   96.0  100.0  100.0\ns        1240.0  92.898387   9.776320  16.0  90.0   96.0  100.0  100.0\nunknown    37.0  80.378378  16.287949  34.0  76.0   82.0   92.0  100.0",
      "text/html": "<div>\n<style scoped>\n    .dataframe tbody tr th:only-of-type {\n        vertical-align: middle;\n    }\n\n    .dataframe tbody tr th {\n        vertical-align: top;\n    }\n\n    .dataframe thead th {\n        text-align: right;\n    }\n</style>\n<table border=\"1\" class=\"dataframe\">\n  <thead>\n    <tr style=\"text-align: right;\">\n      <th></th>\n      <th>count</th>\n      <th>mean</th>\n      <th>std</th>\n      <th>min</th>\n      <th>25%</th>\n      <th>50%</th>\n      <th>75%</th>\n      <th>max</th>\n    </tr>\n    <tr>\n      <th>area</th>\n      <th></th>\n      <th></th>\n      <th></th>\n      <th></th>\n      <th></th>\n      <th></th>\n      <th></th>\n      <th></th>\n    </tr>\n  </thead>\n  <tbody>\n    <tr>\n      <th>e</th>\n      <td>98.0</td>\n      <td>89.602041</td>\n      <td>12.528516</td>\n      <td>38.0</td>\n      <td>84.0</td>\n      <td>94.0</td>\n      <td>100.0</td>\n      <td>100.0</td>\n    </tr>\n    <tr>\n      <th>i</th>\n      <td>3.0</td>\n      <td>96.666667</td>\n      <td>5.773503</td>\n      <td>90.0</td>\n      <td>95.0</td>\n      <td>100.0</td>\n      <td>100.0</td>\n      <td>100.0</td>\n    </tr>\n    <tr>\n      <th>m</th>\n      <td>875.0</td>\n      <td>92.708571</td>\n      <td>8.985157</td>\n      <td>24.0</td>\n      <td>90.0</td>\n      <td>96.0</td>\n      <td>98.0</td>\n      <td>100.0</td>\n    </tr>\n    <tr>\n      <th>n</th>\n      <td>1463.0</td>\n      <td>93.548872</td>\n      <td>8.369962</td>\n      <td>28.0</td>\n      <td>92.0</td>\n      <td>96.0</td>\n      <td>100.0</td>\n      <td>100.0</td>\n    </tr>\n    <tr>\n      <th>s</th>\n      <td>1240.0</td>\n      <td>92.898387</td>\n      <td>9.776320</td>\n      <td>16.0</td>\n      <td>90.0</td>\n      <td>96.0</td>\n      <td>100.0</td>\n      <td>100.0</td>\n    </tr>\n    <tr>\n      <th>unknown</th>\n      <td>37.0</td>\n      <td>80.378378</td>\n      <td>16.287949</td>\n      <td>34.0</td>\n      <td>76.0</td>\n      <td>82.0</td>\n      <td>92.0</td>\n      <td>100.0</td>\n    </tr>\n  </tbody>\n</table>\n</div>"
     },
     "metadata": {},
     "execution_count": 147
    }
   ],
   "source": [
    "df_all.groupby('area')['score'].describe()"
   ]
  },
  {
   "cell_type": "code",
   "execution_count": 139,
   "metadata": {
    "tags": []
   },
   "outputs": [
    {
     "output_type": "stream",
     "name": "stdout",
     "text": "age_n            1.000000\nage_random       0.932190\ntenure_n         0.732304\ntenure_random    0.711085\nlicense          0.157705\nfix_g_less       0.090723\nfix_g_upgrade    0.079227\nsell_g_less      0.072007\nenhance          0.042841\nworthy           0.042725\nName: age_n, dtype: float64 \n\neducation        -0.436148\nhighschool       -0.361038\nuniversity       -0.360674\nstaff_n          -0.187131\nstaff_random     -0.146873\ncomponent        -0.144179\ncross_industry   -0.132117\nsocial_media     -0.130032\ntype_e           -0.119991\ncharge           -0.103210\nName: age_n, dtype: float64\n"
    }
   ],
   "source": [
    "print(df_all.corr()['age_n'].sort_values(ascending=False)[:10], '\\n')\n",
    "print(df_all.corr()['age_n'].sort_values(ascending=True)[:10])"
   ]
  },
  {
   "cell_type": "code",
   "execution_count": 144,
   "metadata": {},
   "outputs": [],
   "source": [
    "df_13 = pd.merge(df_1.iloc[:, :8], df_3, how = 'outer')"
   ]
  },
  {
   "cell_type": "code",
   "execution_count": 145,
   "metadata": {
    "tags": []
   },
   "outputs": [
    {
     "output_type": "stream",
     "name": "stdout",
     "text": "age_n             1.000000\nage_random        0.931940\nfix_g_less        0.087697\nfix_g_upgrade     0.078989\nsell_g_less       0.067753\nrecruit           0.025266\nfranchise_cost    0.022152\nfix_e_upgrade     0.019210\ndecorate_cost     0.007640\nscore            -0.026755\nName: age_n, dtype: float64 \n\n"
    }
   ],
   "source": [
    "print(df_13.corr()['age_n'].sort_values(ascending=False)[:10], '\\n')"
   ]
  },
  {
   "cell_type": "code",
   "execution_count": null,
   "metadata": {},
   "outputs": [],
   "source": []
  }
 ]
}